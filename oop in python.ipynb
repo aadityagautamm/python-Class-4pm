{
 "cells": [
  {
   "cell_type": "code",
   "execution_count": 3,
   "id": "47cd61b6",
   "metadata": {},
   "outputs": [
    {
     "name": "stdout",
     "output_type": "stream",
     "text": [
      "Hello World\n"
     ]
    }
   ],
   "source": [
    "class Hello:                    #class\n",
    "    print(\"Hello World\")\n",
    "\n",
    "obj = Hello()           #object"
   ]
  },
  {
   "cell_type": "code",
   "execution_count": 19,
   "id": "2c80d725",
   "metadata": {},
   "outputs": [
    {
     "name": "stdout",
     "output_type": "stream",
     "text": [
      "i am at broadyway\n"
     ]
    }
   ],
   "source": [
    "class Hello:\n",
    "    def hello(self):\n",
    "        print(\"i am at broadyway\")\n",
    "\n",
    "obj = Hello()\n",
    "obj.hello()"
   ]
  },
  {
   "cell_type": "code",
   "execution_count": 12,
   "id": "5c6133f6",
   "metadata": {},
   "outputs": [
    {
     "name": "stdout",
     "output_type": "stream",
     "text": [
      "i am at broadyway\n"
     ]
    }
   ],
   "source": [
    "class hi:\n",
    "    @staticmethod\n",
    "    def hi():\n",
    "        print(\"i am at broadyway\")\n",
    "\n",
    "obj = hi()\n",
    "obj.hi()"
   ]
  },
  {
   "cell_type": "code",
   "execution_count": 23,
   "id": "cd341e30",
   "metadata": {},
   "outputs": [
    {
     "ename": "SyntaxError",
     "evalue": "invalid syntax (1724003455.py, line 2)",
     "output_type": "error",
     "traceback": [
      "\u001b[1;36m  Cell \u001b[1;32mIn[23], line 2\u001b[1;36m\u001b[0m\n\u001b[1;33m    def__init__(self):\u001b[0m\n\u001b[1;37m                     ^\u001b[0m\n\u001b[1;31mSyntaxError\u001b[0m\u001b[1;31m:\u001b[0m invalid syntax\n"
     ]
    }
   ],
   "source": [
    "class Info:\n",
    "    def__init__(self):\n",
    "        self.name = \"Ram\"\n",
    "        self.age = 34\n",
    "        self.address =  \"Kathmandu\"\n",
    "    \n",
    "    def info(self):\n",
    "        print(f\"Hello i am {self.name}. I am from {self.address}. i am {self.age}\")\n",
    "\n",
    "obj = Info()\n",
    "obj.info()"
   ]
  },
  {
   "cell_type": "code",
   "execution_count": 25,
   "id": "2a1ae316",
   "metadata": {},
   "outputs": [
    {
     "name": "stdout",
     "output_type": "stream",
     "text": [
      "Hello i am Ram. I am from Kathmandu. i am 34\n"
     ]
    }
   ],
   "source": [
    "class Info:\n",
    "    \n",
    "    def __init__(self):\n",
    "        self.name = \"Ram\"\n",
    "        self.age = 34\n",
    "        self.address =  \"Kathmandu\"\n",
    "    \n",
    "    def info(self):\n",
    "        print(f\"Hello i am {self.name}. I am from {self.address}. i am {self.age}\")\n",
    "\n",
    "obj = Info()\n",
    "obj.info()"
   ]
  },
  {
   "cell_type": "code",
   "execution_count": 2,
   "id": "354d9865",
   "metadata": {},
   "outputs": [
    {
     "name": "stdout",
     "output_type": "stream",
     "text": [
      "nam k ho = rabinlaude\n",
      "umer kati ho = 14\n",
      "Ka basxas = makalbari\n",
      "Hello i am rabinlaude. I am from makalbari. i am 14\n"
     ]
    }
   ],
   "source": [
    "class Info:\n",
    "    \n",
    "    def __init__(self,name,age,address):\n",
    "        self.name = name\n",
    "        self.age = age\n",
    "        self.address = address\n",
    "    \n",
    "    def info(self):\n",
    "        print(f\"Hello i am {self.name}. I am from {self.address}. i am {self.age}\")\n",
    "name = input(\"nam k ho = \")\n",
    "age = int(input(\"umer kati ho = \"))\n",
    "address = input(\"Ka basxas = \")\n",
    "obj = Info(name,age,address)\n",
    "obj.info()"
   ]
  },
  {
   "cell_type": "raw",
   "id": "f6ac6e4a",
   "metadata": {},
   "source": [
    "class Info:\n",
    "    \n",
    "    def __init__(self,name,age,address):\n",
    "        self.name = name\n",
    "        self.age = age\n",
    "        self.address = address\n",
    "    \n",
    "    def info(self):\n",
    "        print(f\"Hello i am {self.name}. I am from {self.address}. i am {self.age}\")\n",
    "name = input(\"nam k ho = \")\n",
    "age = int(input(\"umer kati ho = \"))\n",
    "address = input(\"Ka basxas = \")\n",
    "obj = Info(name,age)\n",
    "obj.info(add)"
   ]
  },
  {
   "cell_type": "code",
   "execution_count": 3,
   "id": "032e4cf0",
   "metadata": {},
   "outputs": [
    {
     "name": "stdout",
     "output_type": "stream",
     "text": [
      "nam k ho = rbain\n",
      "umer kati ho = 1\n",
      "Ka basxas = asdnf\n",
      "Hello i am rbain. I am from asdnf. i am 1\n"
     ]
    }
   ],
   "source": [
    "class Info:\n",
    "    \n",
    "    def __init__(self,name,age):\n",
    "        self.name = name\n",
    "        self.age = age\n",
    "       \n",
    "\n",
    "    def info(self,address):\n",
    "        print(f\"Hello i am {self.name}. I am from {address}. i am {self.age}\")\n",
    "name = input(\"nam k ho = \")\n",
    "age = int(input(\"umer kati ho = \"))\n",
    "address = input(\"Ka basxas = \")\n",
    "obj = Info(name,age)\n",
    "obj.info(address)"
   ]
  },
  {
   "cell_type": "code",
   "execution_count": 10,
   "id": "664a6876",
   "metadata": {},
   "outputs": [
    {
     "name": "stdout",
     "output_type": "stream",
     "text": [
      "Ram\n",
      "<class '__main__.Info'>\n"
     ]
    }
   ],
   "source": [
    "class Info:\n",
    "    \n",
    "    def __init__(self):\n",
    "        self.name = \"Ram\"\n",
    "        self.age = 34\n",
    "        self.address =  \"Kathmandu\"\n",
    "    \n",
    "    def __str__(self):\n",
    "        return self.name\n",
    "    \n",
    "obj = Info()\n",
    "print(obj)\n",
    "print(type(obj))\n"
   ]
  },
  {
   "cell_type": "code",
   "execution_count": 13,
   "id": "460e68d4",
   "metadata": {},
   "outputs": [
    {
     "name": "stdout",
     "output_type": "stream",
     "text": [
      "50\n",
      "1600\n"
     ]
    }
   ],
   "source": [
    "class Area:\n",
    "    def __init__(self,l,b):\n",
    "        self.l = l\n",
    "        self.b = b\n",
    "    def area(self):\n",
    "        a = self.l*self.b\n",
    "        print(a)\n",
    "        \n",
    "class Volume:\n",
    "    def __init__(self,l,b,h):\n",
    "        self.l = l\n",
    "        self.b = b\n",
    "        self.h = h\n",
    "    def volume(self):\n",
    "        v = self.l*self.b*self.h\n",
    "        print(v)\n",
    "obj1 = Area(10,5)\n",
    "obj2 = Volume(10,5,32)\n",
    "obj1.area()\n",
    "obj2.volume()\n",
    "        "
   ]
  },
  {
   "cell_type": "code",
   "execution_count": 17,
   "id": "d97ed0fd",
   "metadata": {},
   "outputs": [
    {
     "name": "stdout",
     "output_type": "stream",
     "text": [
      "Hello world i am Ram. i am from 34.\n",
      "i am from Kathmandu. \n",
      "Ram\n",
      "34\n",
      "Kathmandu\n"
     ]
    }
   ],
   "source": [
    "class Data:\n",
    "    def __init__(self):\n",
    "        self.name = \"Ram\"\n",
    "        self._age = 34\n",
    "        self.__add = \"Kathmandu\"\n",
    "    def data(self):\n",
    "        print(f\"i am from {self.__add}. \")\n",
    "    \n",
    "class Info(Data):\n",
    "    def info(self):\n",
    "        print(f\"Hello world i am {self.name}. i am from {self._age}.\")\n",
    "\n",
    "obj = Info()\n",
    "obj.info()\n",
    "obj.data()\n",
    "print(obj.name)\n",
    "print(obj._age)        #protected access\n",
    "print(obj._Data__add)    #private access"
   ]
  },
  {
   "cell_type": "code",
   "execution_count": null,
   "id": "a2dd6cea",
   "metadata": {},
   "outputs": [],
   "source": []
  }
 ],
 "metadata": {
  "kernelspec": {
   "display_name": "Python 3 (ipykernel)",
   "language": "python",
   "name": "python3"
  },
  "language_info": {
   "codemirror_mode": {
    "name": "ipython",
    "version": 3
   },
   "file_extension": ".py",
   "mimetype": "text/x-python",
   "name": "python",
   "nbconvert_exporter": "python",
   "pygments_lexer": "ipython3",
   "version": "3.11.5"
  }
 },
 "nbformat": 4,
 "nbformat_minor": 5
}
