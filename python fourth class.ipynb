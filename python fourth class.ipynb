{
 "cells": [
  {
   "cell_type": "code",
   "execution_count": null,
   "id": "012cdcfd",
   "metadata": {},
   "outputs": [],
   "source": [
    "# loop\n",
    "# for loop \n",
    "# while loop"
   ]
  },
  {
   "cell_type": "code",
   "execution_count": 3,
   "id": "b8d6f2c7",
   "metadata": {},
   "outputs": [
    {
     "name": "stdout",
     "output_type": "stream",
     "text": [
      "0 1 2 3 4 "
     ]
    }
   ],
   "source": [
    "for i in range(5):\n",
    "    print(i, end = \" \")"
   ]
  },
  {
   "cell_type": "code",
   "execution_count": 4,
   "id": "f7281a34",
   "metadata": {},
   "outputs": [
    {
     "name": "stdout",
     "output_type": "stream",
     "text": [
      "1\n",
      "3\n",
      "5\n",
      "7\n",
      "9\n"
     ]
    }
   ],
   "source": [
    "for i in range(1,10,2):\n",
    "    print(i)"
   ]
  },
  {
   "cell_type": "code",
   "execution_count": 5,
   "id": "09b5d140",
   "metadata": {},
   "outputs": [
    {
     "name": "stdout",
     "output_type": "stream",
     "text": [
      "1 range\n",
      "2 range\n",
      "3 range\n",
      "4 range\n"
     ]
    }
   ],
   "source": [
    "for i in range(1,5):\n",
    "    print(i, \"range\")"
   ]
  },
  {
   "cell_type": "code",
   "execution_count": 6,
   "id": "1ee14153",
   "metadata": {},
   "outputs": [
    {
     "name": "stdout",
     "output_type": "stream",
     "text": [
      "Enter a = 5\n",
      "5 10 15 20 25 30 35 40 45 50 "
     ]
    }
   ],
   "source": [
    "a = int(input(\"Enter a = \"))\n",
    "for i in range (1,11):\n",
    "    print(i*a, end = \" \")"
   ]
  },
  {
   "cell_type": "code",
   "execution_count": 5,
   "id": "51b9b944",
   "metadata": {},
   "outputs": [
    {
     "name": "stdout",
     "output_type": "stream",
     "text": [
      "Enter a = 5\n",
      "5 + 1 = 6\n",
      "5 + 2 = 7\n",
      "5 + 3 = 8\n",
      "5 + 4 = 9\n",
      "5 + 5 = 10\n",
      "5 + 6 = 11\n",
      "5 + 7 = 12\n",
      "5 + 8 = 13\n",
      "5 + 9 = 14\n",
      "5 + 10 = 15\n"
     ]
    }
   ],
   "source": [
    "a = int(input(\"Enter a = \"))\n",
    "for i in range (1,11):\n",
    "    print(a,\"+\",i, \"=\",i+a)"
   ]
  },
  {
   "cell_type": "code",
   "execution_count": 5,
   "id": "87fc154e",
   "metadata": {},
   "outputs": [
    {
     "name": "stdout",
     "output_type": "stream",
     "text": [
      "Enter n = 3\n",
      "Enter x = 14\n",
      "Enter x = 14\n",
      "Enter x = 14\n",
      "14\n",
      "14\n",
      "14\n",
      "\n"
     ]
    }
   ],
   "source": [
    "s = str()\n",
    "n = int(input(\"Enter n = \"))\n",
    "for i in range(n):\n",
    "    x= input(\"Enter x = \")\n",
    "    s= s + x + \"\\n\"\n",
    "    \n",
    "print(s)"
   ]
  },
  {
   "cell_type": "code",
   "execution_count": null,
   "id": "d9e6cdc8",
   "metadata": {},
   "outputs": [
    {
     "name": "stdout",
     "output_type": "stream",
     "text": [
      "Enter n = 14\n",
      "Enter name = \n",
      "Enter contact = 1\n",
      "Enter name = j\n",
      "Enter contact = j\n",
      "Enter name = j\n",
      "Enter contact = j\n",
      "Enter name = h\n",
      "Enter contact = h\n",
      "Enter name = '\n",
      "Enter contact = j\n",
      "Enter name = j\n"
     ]
    }
   ],
   "source": [
    "s = str()\n",
    "n = int(input(\"Enter n = \"))\n",
    "for i in range(n):\n",
    "    name = input(\"Enter name = \") \n",
    "    contact = input(\"Enter contact = \")\n",
    "    s= s + name + \" \" + contact + \"\\n\"\n",
    "    \n",
    "print(s)"
   ]
  },
  {
   "cell_type": "code",
   "execution_count": 1,
   "id": "a5a96b90",
   "metadata": {},
   "outputs": [
    {
     "name": "stdout",
     "output_type": "stream",
     "text": [
      "Enter n = 2\n",
      "2\n"
     ]
    }
   ],
   "source": [
    "# to print horizontally end = \"\"\n",
    "fac = 1\n",
    "n = int(input(\"Enter n = \" ))\n",
    "for i in range (1, n+1):\n",
    "    fac = fac*i\n",
    "    \n",
    "    \n",
    "print(fac)"
   ]
  },
  {
   "cell_type": "code",
   "execution_count": null,
   "id": "43c0483a",
   "metadata": {},
   "outputs": [],
   "source": []
  }
 ],
 "metadata": {
  "kernelspec": {
   "display_name": "Python 3 (ipykernel)",
   "language": "python",
   "name": "python3"
  },
  "language_info": {
   "codemirror_mode": {
    "name": "ipython",
    "version": 3
   },
   "file_extension": ".py",
   "mimetype": "text/x-python",
   "name": "python",
   "nbconvert_exporter": "python",
   "pygments_lexer": "ipython3",
   "version": "3.11.5"
  }
 },
 "nbformat": 4,
 "nbformat_minor": 5
}
