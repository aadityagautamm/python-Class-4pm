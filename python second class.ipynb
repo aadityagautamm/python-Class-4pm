{
 "cells": [
  {
   "cell_type": "code",
   "execution_count": 1,
   "id": "7af70d25",
   "metadata": {},
   "outputs": [],
   "source": [
    "#input from user"
   ]
  },
  {
   "cell_type": "code",
   "execution_count": null,
   "id": "4fbf3602",
   "metadata": {},
   "outputs": [],
   "source": [
    "a = input()"
   ]
  },
  {
   "cell_type": "code",
   "execution_count": 1,
   "id": "cfc93c38",
   "metadata": {},
   "outputs": [
    {
     "name": "stdout",
     "output_type": "stream",
     "text": [
      "Enter a =10\n",
      "10\n"
     ]
    }
   ],
   "source": [
    "a = input(\"Enter a =\")\n",
    "print(a)"
   ]
  },
  {
   "cell_type": "code",
   "execution_count": 1,
   "id": "af8840b1",
   "metadata": {},
   "outputs": [
    {
     "name": "stdout",
     "output_type": "stream",
     "text": [
      "Enter a = 15\n",
      "15\n"
     ]
    },
    {
     "data": {
      "text/plain": [
       "int"
      ]
     },
     "execution_count": 1,
     "metadata": {},
     "output_type": "execute_result"
    }
   ],
   "source": [
    "a = int(input(\"Enter a = \"))\n",
    "print(a)\n",
    "type(a)"
   ]
  },
  {
   "cell_type": "code",
   "execution_count": 2,
   "id": "76f09408",
   "metadata": {},
   "outputs": [
    {
     "name": "stdout",
     "output_type": "stream",
     "text": [
      "Enter p = 150\n",
      "Enter t = 2\n",
      "Enter r = 250\n",
      "The value of i = 75000.0\n"
     ]
    }
   ],
   "source": [
    "p = int(input(\"Enter p = \"))\n",
    "t = float(input(\"Enter t = \"))\n",
    "r = float(input(\"Enter r = \"))\n",
    "\n",
    "i = p*t*r\n",
    "\n",
    "print(\"The value of i =\", i)"
   ]
  },
  {
   "cell_type": "code",
   "execution_count": 2,
   "id": "51d491a2",
   "metadata": {},
   "outputs": [
    {
     "name": "stdout",
     "output_type": "stream",
     "text": [
      "10\n"
     ]
    }
   ],
   "source": [
    "#int to string\n",
    "a = 10\n",
    "b = str (a)\n",
    "print(b)"
   ]
  },
  {
   "cell_type": "code",
   "execution_count": 22,
   "id": "72920680",
   "metadata": {},
   "outputs": [
    {
     "data": {
      "text/plain": [
       "10.5"
      ]
     },
     "execution_count": 22,
     "metadata": {},
     "output_type": "execute_result"
    }
   ],
   "source": [
    "#int to float\n",
    "a = 10.5\n",
    "b = float (a)\n",
    "b\n",
    "#o is only false in boolean"
   ]
  },
  {
   "cell_type": "code",
   "execution_count": 4,
   "id": "a06d6a07",
   "metadata": {},
   "outputs": [
    {
     "data": {
      "text/plain": [
       "(10+4j)"
      ]
     },
     "execution_count": 4,
     "metadata": {},
     "output_type": "execute_result"
    }
   ],
   "source": [
    "a = 10\n",
    "b = 4\n",
    "c= complex(a,b)\n",
    "c\n",
    "# j is the complex number in python and its tells root over minus one"
   ]
  },
  {
   "cell_type": "code",
   "execution_count": 13,
   "id": "43b70b1a",
   "metadata": {},
   "outputs": [],
   "source": [
    "#same data types bhyo bhne matra it operates \n",
    "#int and string dont matchrabi\n"
   ]
  },
  {
   "cell_type": "code",
   "execution_count": 4,
   "id": "8fed9c3e",
   "metadata": {},
   "outputs": [
    {
     "name": "stdout",
     "output_type": "stream",
     "text": [
      "Hello 10\n"
     ]
    }
   ],
   "source": [
    "a = \"Hello \"\n",
    "b =  10\n",
    "c = a + str(b)\n",
    "print(c)"
   ]
  },
  {
   "cell_type": "markdown",
   "id": "fc248a9b",
   "metadata": {},
   "source": []
  },
  {
   "cell_type": "code",
   "execution_count": 9,
   "id": "fadc12cc",
   "metadata": {},
   "outputs": [
    {
     "name": "stdout",
     "output_type": "stream",
     "text": [
      "Enter name = aadita\n",
      " Enter age = 14\n",
      " Enter add = sdf\n"
     ]
    },
    {
     "ename": "NameError",
     "evalue": "name 'info' is not defined",
     "output_type": "error",
     "traceback": [
      "\u001b[1;31m---------------------------------------------------------------------------\u001b[0m",
      "\u001b[1;31mNameError\u001b[0m                                 Traceback (most recent call last)",
      "Cell \u001b[1;32mIn[9], line 4\u001b[0m\n\u001b[0;32m      2\u001b[0m age \u001b[38;5;241m=\u001b[39m \u001b[38;5;28mint\u001b[39m(\u001b[38;5;28minput\u001b[39m(\u001b[38;5;124m\"\u001b[39m\u001b[38;5;124m Enter age = \u001b[39m\u001b[38;5;124m\"\u001b[39m))\n\u001b[0;32m      3\u001b[0m add \u001b[38;5;241m=\u001b[39m \u001b[38;5;28minput\u001b[39m (\u001b[38;5;124m\"\u001b[39m\u001b[38;5;124m Enter add = \u001b[39m\u001b[38;5;124m\"\u001b[39m)\n\u001b[1;32m----> 4\u001b[0m info (\u001b[38;5;124m'\u001b[39m\u001b[38;5;124mHello everybody i am\u001b[39m\u001b[38;5;124m'\u001b[39m, name \u001b[38;5;241m+\u001b[39m \u001b[38;5;124m'\u001b[39m\u001b[38;5;124mi am\u001b[39m\u001b[38;5;124m'\u001b[39m, age,\u001b[38;5;124m'\u001b[39m\u001b[38;5;124mand i live in\u001b[39m\u001b[38;5;124m'\u001b[39m\u001b[38;5;241m+\u001b[39m \u001b[38;5;28mstr\u001b[39m (add))\n\u001b[0;32m      5\u001b[0m \u001b[38;5;28mprint\u001b[39m(info)\n",
      "\u001b[1;31mNameError\u001b[0m: name 'info' is not defined"
     ]
    }
   ],
   "source": [
    "name = input(\"Enter name = \")\n",
    "age = int(input(\" Enter age = \"))\n",
    "add = input (\" Enter add = \")\n",
    "info ('Hello everybody i am', name + 'i am', age,'and i live in'+ str (add))\n",
    "print(info)"
   ]
  },
  {
   "cell_type": "code",
   "execution_count": 17,
   "id": "83fb67f1",
   "metadata": {},
   "outputs": [
    {
     "name": "stdout",
     "output_type": "stream",
     "text": [
      "Your name = aaditya\n",
      "Enter the marks of physics = 15\n",
      "Enter the marks of math = 45\n",
      "Enter the marks of nepali = 75\n",
      "Enter the marks of social studies = 47\n",
      "Enter the marks of economics = 74\n",
      "256\n",
      "51.2\n"
     ]
    }
   ],
   "source": [
    "name = input(\"Your name = \")\n",
    "physics = int(input(\"Enter the marks of physics = \"))\n",
    "math = int(input(\"Enter the marks of math = \"))\n",
    "nepali = int(input(\"Enter the marks of nepali = \"))\n",
    "socialstudies = int(input(\"Enter the marks of social studies = \"))\n",
    "economics = int(input(\"Enter the marks of economics = \"))\n",
    "                  \n",
    "total = physics + math + nepali + socialstudies + economics\n",
    "print(total)\n",
    "per = total/5\n",
    "print(per)\n"
   ]
  },
  {
   "cell_type": "code",
   "execution_count": 18,
   "id": "a0215948",
   "metadata": {},
   "outputs": [
    {
     "name": "stdout",
     "output_type": "stream",
     "text": [
      "Company name = pulsar ns 200\n",
      "Total Kilometer = 35699\n",
      "Total fuel = 200\n",
      "178.495\n"
     ]
    }
   ],
   "source": [
    "ns = input(\"Company name = \")\n",
    "km = int(input(\"Total Kilometer = \"))\n",
    "p =  int(input(\"Total fuel = \"))\n",
    "\n",
    "mil = km/p\n",
    "print(mil)"
   ]
  },
  {
   "cell_type": "code",
   "execution_count": 2,
   "id": "75877721",
   "metadata": {},
   "outputs": [
    {
     "name": "stdout",
     "output_type": "stream",
     "text": [
      "Yes\n",
      "2\n"
     ]
    }
   ],
   "source": [
    "# string ko search\n",
    "info = \"Ram shyam hari Geeta hanu Ramesh hanuman\"\n",
    "name = \"Ram\"\n",
    "if name in info:\n",
    "    print(\"Yes\")\n",
    "    print(info.count(name))\n"
   ]
  },
  {
   "cell_type": "code",
   "execution_count": 5,
   "id": "26cd9da0",
   "metadata": {},
   "outputs": [
    {
     "name": "stdout",
     "output_type": "stream",
     "text": [
      "Nam k ho = ram\n",
      "Yes\n",
      "2\n"
     ]
    }
   ],
   "source": [
    "info = \"Ram shyam hari Geeta hanu Ramesh hanuman\". lower()\n",
    "name = input(\"Nam k ho = \").lower()\n",
    "if name in info:\n",
    "    print(\"Yes\")\n",
    "    print(info.count(name))\n",
    "else:\n",
    "    print(\"xaina tero tyo nam\", name)"
   ]
  },
  {
   "cell_type": "code",
   "execution_count": 4,
   "id": "366e346f",
   "metadata": {},
   "outputs": [
    {
     "name": "stdout",
     "output_type": "stream",
     "text": [
      "RAM SHYAM HARI GEETA HANU RAMESH HANUMAN\n",
      "ram shyam hari geeta hanu ramesh hanuman\n"
     ]
    }
   ],
   "source": [
    "info = \"Ram shyam hari Geeta hanu Ramesh hanuman\"\n",
    "print(info.upper())\n",
    "print(info.lower())"
   ]
  },
  {
   "cell_type": "code",
   "execution_count": 11,
   "id": "314ab788",
   "metadata": {},
   "outputs": [
    {
     "data": {
      "text/plain": [
       "['Ram', 'shyam', 'hari', 'Geeta', 'hanu', 'Ramesh', 'hanuman']"
      ]
     },
     "execution_count": 11,
     "metadata": {},
     "output_type": "execute_result"
    }
   ],
   "source": [
    "info = \"Ram shyam hari Geeta hanu Ramesh hanuman\"\n",
    "info.split()"
   ]
  },
  {
   "cell_type": "code",
   "execution_count": null,
   "id": "1ccdd069",
   "metadata": {},
   "outputs": [],
   "source": []
  }
 ],
 "metadata": {
  "kernelspec": {
   "display_name": "Python 3 (ipykernel)",
   "language": "python",
   "name": "python3"
  },
  "language_info": {
   "codemirror_mode": {
    "name": "ipython",
    "version": 3
   },
   "file_extension": ".py",
   "mimetype": "text/x-python",
   "name": "python",
   "nbconvert_exporter": "python",
   "pygments_lexer": "ipython3",
   "version": "3.11.5"
  }
 },
 "nbformat": 4,
 "nbformat_minor": 5
}
