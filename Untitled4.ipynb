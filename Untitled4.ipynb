{
 "cells": [
  {
   "cell_type": "code",
   "execution_count": null,
   "id": "35c7c364",
   "metadata": {},
   "outputs": [],
   "source": [
    "# lambda function\n",
    "# x = lambda <arguments>: <operation>\n",
    "# lambda operates through square"
   ]
  },
  {
   "cell_type": "code",
   "execution_count": null,
   "id": "f65f600a",
   "metadata": {},
   "outputs": [],
   "source": [
    "x = lambda a:a**2\n",
    "print(x(10))"
   ]
  },
  {
   "cell_type": "code",
   "execution_count": null,
   "id": "54b2c815",
   "metadata": {},
   "outputs": [],
   "source": [
    "# map() filter()\n",
    "a = [10000,200000,500000,450000,521001]\n",
    "list(map(lambda x:x*00.95, a))"
   ]
  },
  {
   "cell_type": "code",
   "execution_count": null,
   "id": "dbd4da05",
   "metadata": {},
   "outputs": [],
   "source": [
    "# list as a comprehension\n",
    "a = [i for i in range(1,21)]\n",
    "a"
   ]
  },
  {
   "cell_type": "code",
   "execution_count": null,
   "id": "379f3287",
   "metadata": {},
   "outputs": [],
   "source": [
    "a = {int(input(\"value rakhnus = \")) for i in range(6)}\n",
    "a"
   ]
  },
  {
   "cell_type": "code",
   "execution_count": 6,
   "id": "e8be943c",
   "metadata": {},
   "outputs": [
    {
     "name": "stdout",
     "output_type": "stream",
     "text": [
      "nam rakhnus = adf\n",
      "number dinus = 9891464646464\n",
      "nam rakhnus = dsf\n",
      "number dinus = 895569556\n",
      "nam rakhnus = sdfds6\n",
      "number dinus = 6566\n",
      "nam rakhnus = dsf9\n",
      "number dinus = 65df4\n",
      "nam rakhnus = sdfads6\n",
      "number dinus = 56s4df\n",
      "nam rakhnus = dsfads\n",
      "number dinus = ads\n",
      "{'adf': '9891464646464', 'dsf': '895569556', 'sdfds6': '6566', 'dsf9': '65df4', 'sdfads6': '56s4df', 'dsfads': 'ads'}\n"
     ]
    }
   ],
   "source": [
    "a = {(input(\"nam rakhnus = \")):input(\"number dinus = \") for i in range(6)}\n",
    "print(a)"
   ]
  },
  {
   "cell_type": "code",
   "execution_count": 8,
   "id": "7fd2b6ae",
   "metadata": {},
   "outputs": [
    {
     "name": "stdout",
     "output_type": "stream",
     "text": [
      "Hello world\n",
      "enter y for more print y\n",
      "Hello world\n",
      "enter y for more print y\n",
      "Hello world\n",
      "enter y for more print nasdf\n"
     ]
    }
   ],
   "source": [
    "# recursive function\n",
    "def hello():\n",
    "    print(\"Hello world\")\n",
    "    x = input(\"enter y for more print \")\n",
    "    if x == 'y':\n",
    "        hello()\n",
    "    \n",
    "hello()"
   ]
  },
  {
   "cell_type": "code",
   "execution_count": 10,
   "id": "7ccf11f7",
   "metadata": {},
   "outputs": [
    {
     "name": "stdout",
     "output_type": "stream",
     "text": [
      "Enter Radius = 2\n",
      "12.566370614359172\n"
     ]
    }
   ],
   "source": [
    "# math function\n",
    "import math as m\n",
    "\n",
    "r= float(input(\"Enter Radius = \"))\n",
    "a = m.pi * m.pow(r,2)\n",
    "\n",
    "print(a)\n"
   ]
  },
  {
   "cell_type": "code",
   "execution_count": null,
   "id": "5e7487eb",
   "metadata": {},
   "outputs": [],
   "source": []
  }
 ],
 "metadata": {
  "kernelspec": {
   "display_name": "Python 3 (ipykernel)",
   "language": "python",
   "name": "python3"
  },
  "language_info": {
   "codemirror_mode": {
    "name": "ipython",
    "version": 3
   },
   "file_extension": ".py",
   "mimetype": "text/x-python",
   "name": "python",
   "nbconvert_exporter": "python",
   "pygments_lexer": "ipython3",
   "version": "3.11.5"
  }
 },
 "nbformat": 4,
 "nbformat_minor": 5
}
