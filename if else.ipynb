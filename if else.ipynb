{
 "cells": [
  {
   "cell_type": "code",
   "execution_count": 1,
   "id": "af4d25f3",
   "metadata": {},
   "outputs": [],
   "source": [
    "# if <condition>:\n",
    "#     <operations>\n",
    "# elif <condition>:\n",
    "#     <operation>\n",
    "# ...\n",
    "# else:\n",
    "#     <operaion>"
   ]
  },
  {
   "cell_type": "code",
   "execution_count": 3,
   "id": "dea778c8",
   "metadata": {},
   "outputs": [
    {
     "data": {
      "text/plain": [
       "True"
      ]
     },
     "execution_count": 3,
     "metadata": {},
     "output_type": "execute_result"
    }
   ],
   "source": [
    "a = 10\n",
    "a%2 ==0"
   ]
  },
  {
   "cell_type": "code",
   "execution_count": 1,
   "id": "4eabc2f4",
   "metadata": {},
   "outputs": [
    {
     "name": "stdout",
     "output_type": "stream",
     "text": [
      "Enter a = 10\n",
      "10 is even no.\n"
     ]
    }
   ],
   "source": [
    "a = int(input(\"Enter a = \"))\n",
    "if (a%2 == 0):\n",
    "    print(a,\"is even no.\")\n",
    "else:\n",
    "    print(a,\"is odd no.\")"
   ]
  },
  {
   "cell_type": "code",
   "execution_count": null,
   "id": "77b2e310",
   "metadata": {},
   "outputs": [],
   "source": [
    "a = int(input(\"Enter a = \"))\n",
    "if (a>=0):\n",
    "    print(a,\"is +ve.\")\n",
    "else:\n",
    "    print(a,\"is -ve\")"
   ]
  },
  {
   "cell_type": "code",
   "execution_count": 1,
   "id": "b2d839b4",
   "metadata": {},
   "outputs": [
    {
     "name": "stdout",
     "output_type": "stream",
     "text": [
      "Enter a = 10\n",
      "Enter b = 10\n",
      "a and b both are equal!\n"
     ]
    }
   ],
   "source": [
    "a = int(input(\"Enter a = \"))\n",
    "b = int(input(\"Enter b = \"))\n",
    "if a>b:\n",
    "    print(\"a is greater!\")\n",
    "elif b>a:\n",
    "    print(\"b is greater!\")\n",
    "else:\n",
    "    print(\"a and b both are equal!\")"
   ]
  },
  {
   "cell_type": "code",
   "execution_count": 2,
   "id": "7d1b35d8",
   "metadata": {},
   "outputs": [
    {
     "name": "stdout",
     "output_type": "stream",
     "text": [
      "Enter name = aaditya\n",
      "Enter physics marks = 58\n",
      "Enter chemistry marks = 75\n",
      "Enter math marks = 47\n",
      "Enter english marks = 58\n",
      "Enter nepali marks = 58\n",
      "Your name = aaditya\n",
      "Total marks = 296\n",
      "Percentage = 59.2 %\n",
      "Grade =  C\n"
     ]
    }
   ],
   "source": [
    "name = input(\"Enter name = \")\n",
    "physics = int(input(\"Enter physics marks = \"))\n",
    "chemistry = int(input(\"Enter chemistry marks = \"))\n",
    "math = int(input(\"Enter math marks = \"))\n",
    "english = int(input(\"Enter english marks = \"))\n",
    "nepali = int(input(\"Enter nepali marks = \"))\n",
    "\n",
    "total = physics + chemistry + math +english +nepali\n",
    "\n",
    "per = total/5\n",
    "\n",
    "if per >= 80:\n",
    "    grade = \"A\"\n",
    "elif per >=60:\n",
    "    grade = \"B\"\n",
    "elif per >=45:\n",
    "    grade = \"C\"\n",
    "else:\n",
    "    grade = \"F\"\n",
    "    \n",
    "print(\"Your name =\",name)\n",
    "print(\"Total marks =\",total)\n",
    "print(\"Percentage =\",per,\"%\")\n",
    "print(\"Grade = \",grade)"
   ]
  },
  {
   "cell_type": "code",
   "execution_count": null,
   "id": "ba30cc76",
   "metadata": {},
   "outputs": [],
   "source": [
    "a + b "
   ]
  },
  {
   "cell_type": "code",
   "execution_count": 4,
   "id": "354630e5",
   "metadata": {},
   "outputs": [
    {
     "name": "stdout",
     "output_type": "stream",
     "text": [
      "Enter a = 30\n",
      "Enter b = 15\n",
      "Enter + or - or * or / -\n",
      "15\n"
     ]
    }
   ],
   "source": [
    "a = int(input(\"Enter a = \"))\n",
    "b = int(input(\"Enter b = \"))\n",
    "o = input(\"Enter + or - or * or / \")\n",
    "\n",
    "if o == \"+\":\n",
    "    print(a + b)\n",
    "elif o == '-':\n",
    "    print(a - b)\n",
    "elif o == '*':\n",
    "    print(a * b)\n",
    "elif o == '/':\n",
    "    print(a / b)\n",
    "else:\n",
    "    print(\"Enter valid operator\")"
   ]
  },
  {
   "cell_type": "code",
   "execution_count": null,
   "id": "7d02a11d",
   "metadata": {},
   "outputs": [],
   "source": [
    "# Nested if/else\n",
    "# if <condition>:\n",
    "#     if <condition>:\n",
    "#         <Operations>"
   ]
  },
  {
   "cell_type": "code",
   "execution_count": 5,
   "id": "2a710c7b",
   "metadata": {},
   "outputs": [
    {
     "name": "stdout",
     "output_type": "stream",
     "text": [
      "Enter a = 15\n",
      "Enter b = 30\n",
      "Enter + or - or * or / +\n",
      "45\n"
     ]
    }
   ],
   "source": [
    "a = int(input(\"Enter a = \"))\n",
    "b = int(input(\"Enter b = \"))\n",
    "o = input(\"Enter + or - or * or / \")\n",
    "\n",
    "if o == \"+\":\n",
    "    print(a + b)\n",
    "elif o == '-':\n",
    "    print(a - b)\n",
    "elif o == '*':\n",
    "    print(a * b)\n",
    "elif o == '/':\n",
    "    if b != 0:\n",
    "        print(a / b)\n",
    "    else:\n",
    "        print(\"The value of b can not be zero.\")\n",
    "else:\n",
    "    print(\"Enter valid operator\")"
   ]
  },
  {
   "cell_type": "code",
   "execution_count": 19,
   "id": "9d313e00",
   "metadata": {},
   "outputs": [],
   "source": [
    "# logical operator\n",
    "# and or not"
   ]
  },
  {
   "cell_type": "code",
   "execution_count": 21,
   "id": "4ff2455d",
   "metadata": {},
   "outputs": [
    {
     "name": "stdout",
     "output_type": "stream",
     "text": [
      "True\n",
      "False\n",
      "False\n",
      "False\n"
     ]
    }
   ],
   "source": [
    "#and\n",
    "print(True and True)\n",
    "print(True and False)\n",
    "print(False and True)\n",
    "print(False and False)"
   ]
  },
  {
   "cell_type": "code",
   "execution_count": 22,
   "id": "449dc9d6",
   "metadata": {},
   "outputs": [
    {
     "name": "stdout",
     "output_type": "stream",
     "text": [
      "True\n",
      "True\n",
      "True\n",
      "False\n"
     ]
    }
   ],
   "source": [
    "#or\n",
    "print(True or True)\n",
    "print(True or False)\n",
    "print(False or True)\n",
    "print(False or False)"
   ]
  },
  {
   "cell_type": "code",
   "execution_count": 25,
   "id": "55224556",
   "metadata": {},
   "outputs": [
    {
     "name": "stdout",
     "output_type": "stream",
     "text": [
      "Enter a = 10\n",
      "Enter b = 0\n",
      "Enter + or - or * or / /\n",
      "The value of b can not be zero.\n"
     ]
    }
   ],
   "source": [
    "a = int(input(\"Enter a = \"))\n",
    "b = int(input(\"Enter b = \"))\n",
    "o = input(\"Enter + or - or * or / \")\n",
    "\n",
    "if o == '+':\n",
    "    print(a + b)\n",
    "elif o == '-':\n",
    "    print(a - b)\n",
    "elif o == '*':\n",
    "    print(a * b)\n",
    "elif o == '/' and b!=0:\n",
    "    print(a / b)\n",
    "elif o == '/' and b == 0:\n",
    "    print(\"The value of b can not be zero.\")\n",
    "else:\n",
    "    print(\"Enter valid operator\")"
   ]
  },
  {
   "cell_type": "code",
   "execution_count": 28,
   "id": "0a26094e",
   "metadata": {},
   "outputs": [
    {
     "name": "stdout",
     "output_type": "stream",
     "text": [
      "Enter address = Bhaktapur\n",
      "Enter age = 10\n",
      "Sorry\n"
     ]
    }
   ],
   "source": [
    "address = input(\"Enter address = \")\n",
    "age = int(input(\"Enter age = \"))\n",
    "if (address == \"Kathmandu\") or age > 20:\n",
    "    print(\"Welcome to the event\")\n",
    "else:\n",
    "    print(\"Sorry\")"
   ]
  },
  {
   "cell_type": "code",
   "execution_count": 9,
   "id": "da62ef38",
   "metadata": {},
   "outputs": [
    {
     "name": "stdout",
     "output_type": "stream",
     "text": [
      "Enter address = Kathmandu\n",
      "Enter age = 19\n",
      "Welcome to the thamel club\n"
     ]
    }
   ],
   "source": [
    "address = input(\"Enter address = \")\n",
    "age = int(input(\"Enter age = \"))\n",
    "if (address ==\"Kathmandu\") or age >20:\n",
    "          print(\"Welcome to the thamel club\")\n",
    "else:\n",
    "          print(\"Sorry\")"
   ]
  },
  {
   "cell_type": "code",
   "execution_count": null,
   "id": "132346a3",
   "metadata": {},
   "outputs": [],
   "source": []
  }
 ],
 "metadata": {
  "kernelspec": {
   "display_name": "Python 3 (ipykernel)",
   "language": "python",
   "name": "python3"
  },
  "language_info": {
   "codemirror_mode": {
    "name": "ipython",
    "version": 3
   },
   "file_extension": ".py",
   "mimetype": "text/x-python",
   "name": "python",
   "nbconvert_exporter": "python",
   "pygments_lexer": "ipython3",
   "version": "3.11.5"
  }
 },
 "nbformat": 4,
 "nbformat_minor": 5
}
