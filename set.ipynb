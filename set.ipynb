{
 "cells": [
  {
   "cell_type": "code",
   "execution_count": null,
   "id": "35157a22",
   "metadata": {},
   "outputs": [],
   "source": [
    "# # set\n",
    "# # no indexing\n",
    "# # unordered\n",
    "# # multiple but no duplicate data\n",
    "# # mutable\n",
    "# set is also defined by curly bracket\n",
    "# without key vallue is called set\n",
    "# no concatenation\n"
   ]
  },
  {
   "cell_type": "code",
   "execution_count": 5,
   "id": "c56586db",
   "metadata": {},
   "outputs": [
    {
     "name": "stdout",
     "output_type": "stream",
     "text": [
      "{'Dog', 'Cat', 'Elephant', 'Apple'}\n"
     ]
    }
   ],
   "source": [
    "s = {\"Apple\", \"Ball\", \"Cat\", \"Dog\", \"Elephant\"}\n",
    "s.remove(\"Ball\")\n",
    "print(s)"
   ]
  },
  {
   "cell_type": "code",
   "execution_count": null,
   "id": "8dfdabe3",
   "metadata": {},
   "outputs": [],
   "source": [
    "s = {\"Apple\", \"apple\", \"Ball\", \"Cat\", \"Dog\", \"Elephant\"}\n",
    "print(s)"
   ]
  },
  {
   "cell_type": "code",
   "execution_count": 2,
   "id": "6f481224",
   "metadata": {},
   "outputs": [
    {
     "data": {
      "text/plain": [
       "({1, 2, 3, 4, 5}, {5, 6, 7, 8, 9})"
      ]
     },
     "execution_count": 2,
     "metadata": {},
     "output_type": "execute_result"
    }
   ],
   "source": [
    "a = {1,2,3,4,5}\n",
    "b = {5,6,7,8,9}\n",
    "c = a,b\n",
    "c"
   ]
  },
  {
   "cell_type": "code",
   "execution_count": null,
   "id": "cd9868e4",
   "metadata": {},
   "outputs": [],
   "source": [
    "s = {\"Apple\", \"Ball\", \"Cat\", \"Dog\", \"Elephant\"}"
   ]
  },
  {
   "cell_type": "code",
   "execution_count": 3,
   "id": "14d1c675",
   "metadata": {},
   "outputs": [
    {
     "name": "stdout",
     "output_type": "stream",
     "text": [
      "{'ball', 'apple'}\n"
     ]
    }
   ],
   "source": [
    "# add\n",
    "s = set()\n",
    "s.add(\"apple\")\n",
    "s.add(\"ball\")\n",
    "print(s)"
   ]
  },
  {
   "cell_type": "code",
   "execution_count": 4,
   "id": "c082ad52",
   "metadata": {},
   "outputs": [
    {
     "name": "stdout",
     "output_type": "stream",
     "text": [
      "{1, 2, 3, 4, 5, 6, 7, 8, 9}\n"
     ]
    }
   ],
   "source": [
    "# concat garna mildaina but to do update functon\n",
    "a = {1,2,3,4,5}\n",
    "b = {5,6,7,8,9}\n",
    "a.update(b)\n",
    "print(a)"
   ]
  },
  {
   "cell_type": "code",
   "execution_count": 7,
   "id": "a8c43421",
   "metadata": {},
   "outputs": [
    {
     "data": {
      "text/plain": [
       "[1, 2, 3, 4, 5, 6, 7, 8, 9]"
      ]
     },
     "execution_count": 7,
     "metadata": {},
     "output_type": "execute_result"
    }
   ],
   "source": [
    "a = [1,2,3,4,5,5,6,7,8,9,2,3,5,8,9]\n",
    "a = list(set(a))\n",
    "a\n"
   ]
  },
  {
   "cell_type": "code",
   "execution_count": null,
   "id": "b811ea43",
   "metadata": {},
   "outputs": [],
   "source": [
    "# # # no mutable data inside side\n",
    "# # # no, list, dict, set inside set\n",
    "# # inside set there is alawyas int,float, tuple, str only immutable data type\n",
    "# immutable data means static data"
   ]
  },
  {
   "cell_type": "code",
   "execution_count": 8,
   "id": "0744be6f",
   "metadata": {},
   "outputs": [
    {
     "data": {
      "text/plain": [
       "{(1, 2, 3)}"
      ]
     },
     "execution_count": 8,
     "metadata": {},
     "output_type": "execute_result"
    }
   ],
   "source": [
    "a = {(1,2,3)}\n",
    "a"
   ]
  },
  {
   "cell_type": "code",
   "execution_count": 15,
   "id": "e5f1b528",
   "metadata": {},
   "outputs": [
    {
     "name": "stdout",
     "output_type": "stream",
     "text": [
      "{'tom'}\n",
      "{'Ball', 'tom', 'Dog', 'iron', 'jordan', 'Elephant', 'antman', 'Bill'}\n",
      "{'Ball', 'Dog', 'Elephant', 'jordan'}\n"
     ]
    }
   ],
   "source": [
    "Apple = {\"jordan\", \"Ball\", \"tom\", \"Dog\", \"Elephant\"}\n",
    "ms = {\"Bill\", \"tom\", \"iron\", \"antman\"}\n",
    "# intersection\n",
    "i = Apple.intersection(ms)\n",
    "print(i)\n",
    "u = Apple.union(ms)\n",
    "print(u)\n",
    "# only apple\n",
    "print(Apple-ms)\n",
    "# function \n",
    "# Apple.difference(ms) means reduce apple from ms"
   ]
  },
  {
   "cell_type": "code",
   "execution_count": 20,
   "id": "0e8ee319",
   "metadata": {},
   "outputs": [
    {
     "name": "stdout",
     "output_type": "stream",
     "text": [
      "{'iron', 'abc', 'antman', 'Bill', 'xyz'}\n"
     ]
    }
   ],
   "source": [
    "a = {\"jordan\", \"Ball\", \"tom\", \"Dog\", \"Elephant\", \"Bill\", \"tom\", \"iron\", \"antman\", \"xyz\", \"abc\"}\n",
    "print(a-Apple)"
   ]
  },
  {
   "cell_type": "code",
   "execution_count": null,
   "id": "fe0dcaf4",
   "metadata": {},
   "outputs": [],
   "source": []
  }
 ],
 "metadata": {
  "kernelspec": {
   "display_name": "Python 3 (ipykernel)",
   "language": "python",
   "name": "python3"
  },
  "language_info": {
   "codemirror_mode": {
    "name": "ipython",
    "version": 3
   },
   "file_extension": ".py",
   "mimetype": "text/x-python",
   "name": "python",
   "nbconvert_exporter": "python",
   "pygments_lexer": "ipython3",
   "version": "3.11.5"
  }
 },
 "nbformat": 4,
 "nbformat_minor": 5
}
