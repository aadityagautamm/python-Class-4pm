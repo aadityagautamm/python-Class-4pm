{
 "cells": [
  {
   "cell_type": "code",
   "execution_count": null,
   "id": "376775e0",
   "metadata": {},
   "outputs": [],
   "source": [
    "sn,name,age,add,phone\n",
    "1,Ram,34,Kathmandu,9818565253\n",
    "2,Hanuman,100,shivachok,9841796010\n"
   ]
  },
  {
   "cell_type": "code",
   "execution_count": 5,
   "id": "7192dc58",
   "metadata": {},
   "outputs": [
    {
     "name": "stdout",
     "output_type": "stream",
     "text": [
      "Hello my name is Aaditya Kiran Gautam\n",
      "i live in bode bhaktapur\n",
      "\n"
     ]
    }
   ],
   "source": [
    "file = open('data.txt')\n",
    "print(file.read())"
   ]
  },
  {
   "cell_type": "code",
   "execution_count": 7,
   "id": "9faf2f74",
   "metadata": {},
   "outputs": [],
   "source": [
    "file = open('data2.txt', 'w')\n",
    "file.write(\"Hello hanuman\")\n",
    "file.close()"
   ]
  },
  {
   "cell_type": "code",
   "execution_count": 8,
   "id": "c1346d1d",
   "metadata": {},
   "outputs": [
    {
     "data": {
      "text/plain": [
       "'C:\\\\Users\\\\Aaditya\\\\python first class'"
      ]
     },
     "execution_count": 8,
     "metadata": {},
     "output_type": "execute_result"
    }
   ],
   "source": [
    "pwd"
   ]
  },
  {
   "cell_type": "code",
   "execution_count": null,
   "id": "05dbcf36",
   "metadata": {},
   "outputs": [],
   "source": []
  }
 ],
 "metadata": {
  "kernelspec": {
   "display_name": "Python 3 (ipykernel)",
   "language": "python",
   "name": "python3"
  },
  "language_info": {
   "codemirror_mode": {
    "name": "ipython",
    "version": 3
   },
   "file_extension": ".py",
   "mimetype": "text/x-python",
   "name": "python",
   "nbconvert_exporter": "python",
   "pygments_lexer": "ipython3",
   "version": "3.11.5"
  }
 },
 "nbformat": 4,
 "nbformat_minor": 5
}
