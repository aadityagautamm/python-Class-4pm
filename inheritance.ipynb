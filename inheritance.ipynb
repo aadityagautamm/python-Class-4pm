{
 "cells": [
  {
   "cell_type": "code",
   "execution_count": null,
   "id": "91170d67",
   "metadata": {},
   "outputs": [],
   "source": [
    "# class <class_name1>:\n",
    "#     <operations>\n",
    "\n",
    "# class <class_name2> (class_name1):\n",
    "#     <operations>\n",
    "\n",
    "# obj = <class_name2>()"
   ]
  },
  {
   "cell_type": "code",
   "execution_count": 1,
   "id": "03f7063c",
   "metadata": {},
   "outputs": [
    {
     "ename": "NameError",
     "evalue": "name 'Pass' is not defined",
     "output_type": "error",
     "traceback": [
      "\u001b[1;31m---------------------------------------------------------------------------\u001b[0m",
      "\u001b[1;31mNameError\u001b[0m                                 Traceback (most recent call last)",
      "Cell \u001b[1;32mIn[1], line 1\u001b[0m\n\u001b[1;32m----> 1\u001b[0m \u001b[38;5;28;01mclass\u001b[39;00m \u001b[38;5;21;01mA\u001b[39;00m:\n\u001b[0;32m      2\u001b[0m     Pass\n\u001b[0;32m      4\u001b[0m \u001b[38;5;28;01mclass\u001b[39;00m \u001b[38;5;21;01mB\u001b[39;00m(A):\n",
      "Cell \u001b[1;32mIn[1], line 2\u001b[0m, in \u001b[0;36mA\u001b[1;34m()\u001b[0m\n\u001b[0;32m      1\u001b[0m \u001b[38;5;28;01mclass\u001b[39;00m \u001b[38;5;21;01mA\u001b[39;00m:\n\u001b[1;32m----> 2\u001b[0m     Pass\n",
      "\u001b[1;31mNameError\u001b[0m: name 'Pass' is not defined"
     ]
    }
   ],
   "source": [
    "class A:\n",
    "    Pass\n",
    "\n",
    "class B(A):\n",
    "    Pass\n",
    "\n",
    "    obj = B()"
   ]
  },
  {
   "cell_type": "code",
   "execution_count": 11,
   "id": "a277b725",
   "metadata": {},
   "outputs": [
    {
     "name": "stdout",
     "output_type": "stream",
     "text": [
      "Hello world i am Ram. i am from Kathmandu. i am 34\n"
     ]
    }
   ],
   "source": [
    "class Data:\n",
    "    def __init__(self):\n",
    "        self.name = \"Ram\"\n",
    "        self.age = 34\n",
    "        self.add = \"Kathmandu\"\n",
    "    \n",
    "class Info(Data):\n",
    "    def info(self):\n",
    "        print(f\"Hello world i am {self.name}. i am from {self.add}. i am {self.age}\")\n",
    "\n",
    "obj = Info()\n",
    "obj.info()"
   ]
  },
  {
   "cell_type": "code",
   "execution_count": 1,
   "id": "6027deea",
   "metadata": {},
   "outputs": [],
   "source": [
    "class A:\n",
    "    pass\n",
    "class B(A):\n",
    "    pass\n",
    "class C(B):\n",
    "    pass\n",
    "obj = C()"
   ]
  },
  {
   "cell_type": "code",
   "execution_count": 14,
   "id": "5dfc56f3",
   "metadata": {},
   "outputs": [
    {
     "name": "stdout",
     "output_type": "stream",
     "text": [
      "Hello world i am Ram. i am 34. i am from ktm \n"
     ]
    }
   ],
   "source": [
    "class Address:\n",
    "    def __init__(self,add):\n",
    "        self.add = add\n",
    "\n",
    "class Data(Address):\n",
    "    def __init__(self,age,add):\n",
    "        self.age = 34\n",
    "        Address.__init__(self,add)\n",
    "    \n",
    "class Info(Data,Address):\n",
    "    def __init__(self,name,age,add):\n",
    "        self.name = name\n",
    "        Data.__init__(self,age,add)\n",
    "    \n",
    "    def info(self):\n",
    "        print(f\"Hello world i am {self.name}. i am {self.age}. i am from {self.add} \")\n",
    "\n",
    "  \n",
    "\n",
    "obj = Info(\"Ram\", 34, \"ktm\")\n",
    "obj.info()"
   ]
  },
  {
   "cell_type": "code",
   "execution_count": 17,
   "id": "367d8ab7",
   "metadata": {},
   "outputs": [
    {
     "name": "stdout",
     "output_type": "stream",
     "text": [
      "Hello world i am Ram. i am from Kathmandu. i am 34\n",
      "Ram\n"
     ]
    }
   ],
   "source": [
    "\n",
    "class Data:\n",
    "    def __init__(self):\n",
    "        self.name = \"Ram\"      #public\n",
    "        self._age = 34         protected\n",
    "        self.add = \"Kathmandu\"\n",
    "    \n",
    "class Info(Data):\n",
    "    def info(self):\n",
    "        print(f\"Hello world i am {self.name}. i am from {self._add}. i am {self.age}\")\n",
    "\n",
    "obj = Info()\n",
    "obj.info()\n",
    "print(obj.name)"
   ]
  },
  {
   "cell_type": "code",
   "execution_count": null,
   "id": "148d3bc0",
   "metadata": {},
   "outputs": [],
   "source": []
  }
 ],
 "metadata": {
  "kernelspec": {
   "display_name": "Python 3 (ipykernel)",
   "language": "python",
   "name": "python3"
  },
  "language_info": {
   "codemirror_mode": {
    "name": "ipython",
    "version": 3
   },
   "file_extension": ".py",
   "mimetype": "text/x-python",
   "name": "python",
   "nbconvert_exporter": "python",
   "pygments_lexer": "ipython3",
   "version": "3.11.5"
  }
 },
 "nbformat": 4,
 "nbformat_minor": 5
}
