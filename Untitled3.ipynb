{
 "cells": [
  {
   "cell_type": "code",
   "execution_count": null,
   "id": "6d4efcd9",
   "metadata": {},
   "outputs": [],
   "source": []
  },
  {
   "cell_type": "code",
   "execution_count": 2,
   "id": "f2e33f4a",
   "metadata": {},
   "outputs": [
    {
     "name": "stdout",
     "output_type": "stream",
     "text": [
      "Enter l =14\n",
      "enter = b14\n",
      "196\n"
     ]
    }
   ],
   "source": [
    "# local variable\n",
    "def cal():\n",
    "    l = int(input(\"Enter l =\"))\n",
    "    b =  int(input(\"enter b  = \"))\n",
    "    a = l*b\n",
    "    print(a)\n",
    "cal()\n",
    "    "
   ]
  },
  {
   "cell_type": "code",
   "execution_count": null,
   "id": "947bf197",
   "metadata": {},
   "outputs": [],
   "source": [
    "#    l = int(input(\"Enter l =\"))                      global variable   \n",
    "#     b =  int(input(\"enter b  = \"))                  global variable\n",
    "    def cal():\n",
    "        a = l*b\n",
    "        print(a)\n",
    "    cal()\n",
    "    "
   ]
  },
  {
   "cell_type": "code",
   "execution_count": null,
   "id": "658d496c",
   "metadata": {},
   "outputs": [],
   "source": [
    "# functon without arguement and no return type\n",
    "# function with arugument and no return type\n",
    "# fucntion without arguent and return type\n",
    "# function with argyement and return type"
   ]
  },
  {
   "cell_type": "code",
   "execution_count": null,
   "id": "4a502230",
   "metadata": {},
   "outputs": [],
   "source": [
    "# total number of arugment and parameter should be same"
   ]
  }
 ],
 "metadata": {
  "kernelspec": {
   "display_name": "Python 3 (ipykernel)",
   "language": "python",
   "name": "python3"
  },
  "language_info": {
   "codemirror_mode": {
    "name": "ipython",
    "version": 3
   },
   "file_extension": ".py",
   "mimetype": "text/x-python",
   "name": "python",
   "nbconvert_exporter": "python",
   "pygments_lexer": "ipython3",
   "version": "3.11.5"
  }
 },
 "nbformat": 4,
 "nbformat_minor": 5
}
