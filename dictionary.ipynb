{
 "cells": [
  {
   "cell_type": "code",
   "execution_count": null,
   "id": "62bed507",
   "metadata": {},
   "outputs": [],
   "source": [
    "a = {}\n",
    "a = {'a': 'Apple', 'b' 'ball', 'c' 'cat'}"
   ]
  },
  {
   "cell_type": "code",
   "execution_count": null,
   "id": "0cfaedc3",
   "metadata": {},
   "outputs": [],
   "source": [
    "# to print key only for i in a for values a.values and to print both a.items"
   ]
  },
  {
   "cell_type": "code",
   "execution_count": null,
   "id": "707a79a3",
   "metadata": {},
   "outputs": [],
   "source": [
    "d = [['Ram' , 9851044248], ['aashutosh', 9841796010]]\n",
    "dict(d)"
   ]
  },
  {
   "cell_type": "code",
   "execution_count": null,
   "id": "8a4d514a",
   "metadata": {},
   "outputs": [],
   "source": [
    "# list inside list and tuple insdie tuple both converts in dict"
   ]
  },
  {
   "cell_type": "code",
   "execution_count": null,
   "id": "7d7b6c2d",
   "metadata": {},
   "outputs": [],
   "source": [
    "# update\n",
    "d = {'Ram':9851044248, 'aashutosh':9841796010}\n",
    "d['Ram']= 9818562648\n",
    "d"
   ]
  },
  {
   "cell_type": "code",
   "execution_count": null,
   "id": "50c6b8ca",
   "metadata": {},
   "outputs": [],
   "source": [
    "d = {'Ram':9851044248, 'aashutosh':9841796010}\n",
    "b= d.pop('Ram')\n",
    "print(d)\n",
    "print(b)"
   ]
  },
  {
   "cell_type": "code",
   "execution_count": null,
   "id": "0bc5d189",
   "metadata": {},
   "outputs": [],
   "source": [
    "# key is static it cant be replaced"
   ]
  },
  {
   "cell_type": "code",
   "execution_count": null,
   "id": "e979cc5c",
   "metadata": {},
   "outputs": [],
   "source": [
    "d = {'Ram':9851044248, 'aashutosh':9841796010}\n",
    "c = {'sita':9845284, 'hanuman':9841747859}\n",
    "print(d,c)\n"
   ]
  },
  {
   "cell_type": "code",
   "execution_count": null,
   "id": "4a16f0f8",
   "metadata": {},
   "outputs": [],
   "source": [
    "# mapping means defining values "
   ]
  },
  {
   "cell_type": "code",
   "execution_count": null,
   "id": "75ce967d",
   "metadata": {},
   "outputs": [],
   "source": [
    "# list inside dict\n",
    "d = {'Name':[\"Ram\", \"Hanu\", \"Myan\"], 'Age':[15,45,52],'Address': [\"Kathmandu\", \"Bhaktapur\", \"Lalitpur\"]}\n",
    "d"
   ]
  },
  {
   "cell_type": "code",
   "execution_count": null,
   "id": "e2ce49a0",
   "metadata": {},
   "outputs": [],
   "source": [
    "# dict inside list\n",
    "d = [{'Name':\"Ram\", 'Age':15,'Address':\"Kathmandu\"}]\n",
    "d"
   ]
  },
  {
   "cell_type": "code",
   "execution_count": null,
   "id": "811e88fb",
   "metadata": {},
   "outputs": [],
   "source": [
    "d = {'Name':[], 'Age':[],'Address':[]}\n",
    "n= int(input(\"Enter the number = \"))\n",
    "for i in range(n):\n",
    "    name =  input(\"Name= \")\n",
    "    age = int(input(\"age = \"))\n",
    "    address = input(\"add = \")\n",
    "    d['Name'].append(name)\n",
    "    d['Age'].append(age)\n",
    "    d['Address'].append(address)\n",
    "print(d)\n",
    "    \n",
    "    "
   ]
  },
  {
   "cell_type": "code",
   "execution_count": null,
   "id": "8c9e48ba",
   "metadata": {},
   "outputs": [],
   "source": [
    "info = []\n",
    "\n",
    "n= int(input(\"Enter the number = \"))\n",
    "for i in range(n):\n",
    "    name =  input(\"Name= \")\n",
    "    age = int(input(\"age = \"))\n",
    "    address = input(\"add = \")\n",
    "    d['Name'].append(name)\n",
    "    d['Age'].append(age)\n",
    "    d['Address'].append(address)"
   ]
  },
  {
   "cell_type": "code",
   "execution_count": null,
   "id": "4636ea53",
   "metadata": {},
   "outputs": [],
   "source": []
  },
  {
   "cell_type": "code",
   "execution_count": null,
   "id": "5d1d2c69",
   "metadata": {},
   "outputs": [],
   "source": []
  }
 ],
 "metadata": {
  "kernelspec": {
   "display_name": "Python 3 (ipykernel)",
   "language": "python",
   "name": "python3"
  },
  "language_info": {
   "codemirror_mode": {
    "name": "ipython",
    "version": 3
   },
   "file_extension": ".py",
   "mimetype": "text/x-python",
   "name": "python",
   "nbconvert_exporter": "python",
   "pygments_lexer": "ipython3",
   "version": "3.11.5"
  }
 },
 "nbformat": 4,
 "nbformat_minor": 5
}
