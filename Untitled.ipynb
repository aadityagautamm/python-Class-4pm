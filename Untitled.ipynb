{
 "cells": [
  {
   "cell_type": "code",
   "execution_count": null,
   "id": "0e349af5",
   "metadata": {},
   "outputs": [],
   "source": [
    "# Python collection\n",
    "# list \n",
    "# tuple\n",
    "# dict\n",
    "# set\n"
   ]
  },
  {
   "cell_type": "code",
   "execution_count": null,
   "id": "e9d8c6b5",
   "metadata": {},
   "outputs": [],
   "source": [
    "# list\n",
    "# indexing\n",
    "# ordered\n",
    "# is used to multiple and duplicate data and said as mutable\n"
   ]
  },
  {
   "cell_type": "code",
   "execution_count": null,
   "id": "7e796921",
   "metadata": {},
   "outputs": [],
   "source": [
    "# l = list()\n",
    "l  = [1,2,3,4]\n",
    "a = [\"Apple\", \"ball\", \"cat\", \"Dog\"]\n",
    "print(type(l))\n",
    "print(type(a))"
   ]
  },
  {
   "cell_type": "code",
   "execution_count": null,
   "id": "7fd26530",
   "metadata": {},
   "outputs": [],
   "source": [
    "# each value is separated by comma in list\n"
   ]
  },
  {
   "cell_type": "code",
   "execution_count": 27,
   "id": "691a6d79",
   "metadata": {},
   "outputs": [
    {
     "name": "stdout",
     "output_type": "stream",
     "text": [
      "Apple\n"
     ]
    }
   ],
   "source": [
    "a = [\"Apple\", \"ball\", \"cat\", \"Dog\"]\n",
    "print(a[0])"
   ]
  },
  {
   "cell_type": "code",
   "execution_count": null,
   "id": "0efbf786",
   "metadata": {},
   "outputs": [],
   "source": [
    "a = [\"Apple\", \"ball\", \"cat\", \"Dog\"]\n",
    "print(len(a))"
   ]
  },
  {
   "cell_type": "code",
   "execution_count": null,
   "id": "962852cc",
   "metadata": {},
   "outputs": [],
   "source": [
    "a = [\"Apple\", \"ball\", \"cat\", \"Dog\"]\n",
    "print(a*3)\n"
   ]
  },
  {
   "cell_type": "code",
   "execution_count": null,
   "id": "394a5639",
   "metadata": {},
   "outputs": [],
   "source": [
    "a = [\"Apple\", \"ball\", \"cat\", \"Dog\"]\n",
    "for i in a:\n",
    "    print(i)\n"
   ]
  },
  {
   "cell_type": "code",
   "execution_count": 4,
   "id": "f2dfc4bc",
   "metadata": {},
   "outputs": [
    {
     "data": {
      "text/plain": [
       "['apple', 'ball']"
      ]
     },
     "execution_count": 4,
     "metadata": {},
     "output_type": "execute_result"
    }
   ],
   "source": [
    "a = []\n",
    "a.append(\"apple\")\n",
    "a.append(\"ball\")\n",
    "a"
   ]
  },
  {
   "cell_type": "code",
   "execution_count": 6,
   "id": "2db63b0b",
   "metadata": {},
   "outputs": [
    {
     "data": {
      "text/plain": [
       "['Apple', 'ball', 'pussy', 'cat', 'Dog']"
      ]
     },
     "execution_count": 6,
     "metadata": {},
     "output_type": "execute_result"
    }
   ],
   "source": [
    "# insert\n",
    "a = [\"Apple\", \"ball\", \"cat\", \"Dog\"]\n",
    "a.insert(2,\"pussy\")\n",
    "a"
   ]
  },
  {
   "cell_type": "code",
   "execution_count": null,
   "id": "4a38a79a",
   "metadata": {},
   "outputs": [],
   "source": [
    "# extend\n",
    "a = [\"Apple\", \"ball\", \"cat\", \"Dog\"]\n",
    "b= [1,2,3,4,5,6]\n",
    "b.extend(a)\n",
    "b\n"
   ]
  },
  {
   "cell_type": "code",
   "execution_count": 14,
   "id": "418cb125",
   "metadata": {},
   "outputs": [
    {
     "name": "stdout",
     "output_type": "stream",
     "text": [
      "Enter n = 3\n",
      "Enter the  list = 445\n",
      "[445]\n",
      "Enter the  list = 884\n",
      "[445, 884]\n",
      "Enter the  list = 4447\n",
      "[445, 884, 4447]\n"
     ]
    }
   ],
   "source": [
    "l =[]\n",
    "n = int(input(\"Enter n = \"))\n",
    "for i in range(n):\n",
    "    x = int(input(\"Enter the  list = \"))\n",
    "    l.append(x)\n",
    "    print(l)"
   ]
  },
  {
   "cell_type": "code",
   "execution_count": 15,
   "id": "d36b9daf",
   "metadata": {},
   "outputs": [
    {
     "name": "stdout",
     "output_type": "stream",
     "text": [
      "max value =  4447\n",
      "min value =  445\n",
      "Sum value = 5776\n"
     ]
    }
   ],
   "source": [
    "\n",
    "print(\"max value = \",max(l))\n",
    "print(\"min value = \",min(l))\n",
    "print(\"Sum value =\",sum(l))"
   ]
  },
  {
   "cell_type": "code",
   "execution_count": 16,
   "id": "2ad2dd13",
   "metadata": {},
   "outputs": [
    {
     "data": {
      "text/plain": [
       "['fuckyou', 'mf', 1, 2, 3, 4, 5, 'cat', 'Dog']"
      ]
     },
     "execution_count": 16,
     "metadata": {},
     "output_type": "execute_result"
    }
   ],
   "source": [
    "# update\n",
    "a = [\"Apple\", \"ball\", \"cat\", \"Dog\"]\n",
    "a[0:2] = ['fuckyou', 'mf', 1,2,3,4,5]\n",
    "a"
   ]
  },
  {
   "cell_type": "code",
   "execution_count": 17,
   "id": "091c059e",
   "metadata": {},
   "outputs": [
    {
     "data": {
      "text/plain": [
       "['Apple', 'cat', 'Dog']"
      ]
     },
     "execution_count": 17,
     "metadata": {},
     "output_type": "execute_result"
    }
   ],
   "source": [
    "a = [\"Apple\", \"ball\", \"cat\", \"Dog\"]\n",
    "del a[1]\n",
    "a"
   ]
  },
  {
   "cell_type": "code",
   "execution_count": 23,
   "id": "7051d72c",
   "metadata": {},
   "outputs": [
    {
     "data": {
      "text/plain": [
       "['Apple', 'cat', 'Dog']"
      ]
     },
     "execution_count": 23,
     "metadata": {},
     "output_type": "execute_result"
    }
   ],
   "source": [
    "a = [\"Apple\", \"ball\", \"cat\", \"Dog\"]\n",
    "a.remove('ball')\n",
    "a"
   ]
  },
  {
   "cell_type": "code",
   "execution_count": 26,
   "id": "3d6a043f",
   "metadata": {},
   "outputs": [
    {
     "name": "stdout",
     "output_type": "stream",
     "text": [
      "['ball', 'cat', 'Dog']\n",
      "Apple\n"
     ]
    }
   ],
   "source": [
    "a = [\"Apple\", \"ball\", \"cat\", \"Dog\"]\n",
    "b= a.pop(0)\n",
    "print(a)\n",
    "print(b)"
   ]
  },
  {
   "cell_type": "code",
   "execution_count": null,
   "id": "419e167e",
   "metadata": {},
   "outputs": [],
   "source": []
  }
 ],
 "metadata": {
  "kernelspec": {
   "display_name": "Python 3 (ipykernel)",
   "language": "python",
   "name": "python3"
  },
  "language_info": {
   "codemirror_mode": {
    "name": "ipython",
    "version": 3
   },
   "file_extension": ".py",
   "mimetype": "text/x-python",
   "name": "python",
   "nbconvert_exporter": "python",
   "pygments_lexer": "ipython3",
   "version": "3.11.5"
  }
 },
 "nbformat": 4,
 "nbformat_minor": 5
}
