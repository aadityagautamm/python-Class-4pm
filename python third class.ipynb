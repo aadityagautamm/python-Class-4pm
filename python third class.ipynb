{
 "cells": [
  {
   "cell_type": "code",
   "execution_count": 2,
   "id": "2cbd492a",
   "metadata": {},
   "outputs": [
    {
     "ename": "SyntaxError",
     "evalue": "invalid syntax (3682947620.py, line 2)",
     "output_type": "error",
     "traceback": [
      "\u001b[1;36m  Cell \u001b[1;32mIn[2], line 2\u001b[1;36m\u001b[0m\n\u001b[1;33m    if <condition>:\u001b[0m\n\u001b[1;37m       ^\u001b[0m\n\u001b[1;31mSyntaxError\u001b[0m\u001b[1;31m:\u001b[0m invalid syntax\n"
     ]
    }
   ],
   "source": [
    "#:to determine the condition\n",
    "if <condition>: \n",
    "   <operations>\n",
    "Elif <condition>:\n",
    "    <operation>\n",
    "\n",
    "else:\n",
    "    <operation>\n",
    "    \n",
    "    \n"
   ]
  },
  {
   "cell_type": "code",
   "execution_count": 3,
   "id": "e505c686",
   "metadata": {},
   "outputs": [
    {
     "name": "stdout",
     "output_type": "stream",
     "text": [
      "Enter a =15\n",
      "15 is odd no.\n"
     ]
    }
   ],
   "source": [
    "a =int(input(\"Enter a =\"))\n",
    "if a%2 == 0:\n",
    "    print(a,\" is even no.\")\n",
    "else:\n",
    "    print(a,\"is odd no.\")\n",
    "    "
   ]
  },
  {
   "cell_type": "code",
   "execution_count": null,
   "id": "01a4dbf6",
   "metadata": {},
   "outputs": [],
   "source": [
    "a = int(input(\"Enter a =\"))\n",
    "b = int(input(\"Enter b =\"))\n",
    "if a>b:\n",
    "    print(\"a is greater\")\n",
    "elif b>a:\n",
    "    print(\"b is greater\")\n",
    "else:\n",
    "    print(\"a and b both are equal!\")    "
   ]
  },
  {
   "cell_type": "code",
   "execution_count": 1,
   "id": "492d2036",
   "metadata": {},
   "outputs": [
    {
     "name": "stdout",
     "output_type": "stream",
     "text": [
      "Your name = aaditya\n",
      "Enter the marks of physics = 70\n",
      "Enter the marks of math = 14\n",
      "Enter the marks of nepali = 14\n",
      "Enter the marks of social studies = 14\n",
      "Enter the marks of economics = 14\n",
      "grade = F\n"
     ]
    }
   ],
   "source": [
    "name = input(\"Your name = \")\n",
    "physics = int(input(\"Enter the marks of physics = \"))\n",
    "math = int(input(\"Enter the marks of math = \"))\n",
    "nepali = int(input(\"Enter the marks of nepali = \"))\n",
    "socialstudies = int(input(\"Enter the marks of social studies = \"))\n",
    "economics = int(input(\"Enter the marks of economics = \"))\n",
    "total = physics + math + nepali + socialstudies + economics\n",
    "per = total/5\n",
    "if per>=80:\n",
    "    grade = \"A\"\n",
    "elif per>=60:\n",
    "    grade = \"B\"\n",
    "elif per>=45:\n",
    "    grade = \"C\"\n",
    "else:\n",
    "    grade = \"F\"\n",
    "print(\"grade =\",grade)\n",
    "    \n",
    "\n"
   ]
  },
  {
   "cell_type": "code",
   "execution_count": 2,
   "id": "32d3bb05",
   "metadata": {},
   "outputs": [
    {
     "name": "stdout",
     "output_type": "stream",
     "text": [
      "enter a =14\n",
      "enter b =14\n",
      "enter + or - or * or /4\n"
     ]
    }
   ],
   "source": [
    "a = int(input(\"enter a =\"))\n",
    "b = int(input(\"enter b =\"))\n",
    "o = input(\"enter + or - or * or /\")"
   ]
  },
  {
   "cell_type": "code",
   "execution_count": null,
   "id": "572e8e2e",
   "metadata": {},
   "outputs": [],
   "source": []
  }
 ],
 "metadata": {
  "kernelspec": {
   "display_name": "Python 3 (ipykernel)",
   "language": "python",
   "name": "python3"
  },
  "language_info": {
   "codemirror_mode": {
    "name": "ipython",
    "version": 3
   },
   "file_extension": ".py",
   "mimetype": "text/x-python",
   "name": "python",
   "nbconvert_exporter": "python",
   "pygments_lexer": "ipython3",
   "version": "3.11.5"
  }
 },
 "nbformat": 4,
 "nbformat_minor": 5
}
