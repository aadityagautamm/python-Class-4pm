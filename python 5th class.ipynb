{
 "cells": [
  {
   "cell_type": "code",
   "execution_count": 1,
   "id": "d1670aa8",
   "metadata": {},
   "outputs": [],
   "source": [
    "# control statement"
   ]
  },
  {
   "cell_type": "code",
   "execution_count": 2,
   "id": "046a243a",
   "metadata": {},
   "outputs": [],
   "source": [
    "# break \n",
    "# continue\n"
   ]
  },
  {
   "cell_type": "code",
   "execution_count": 5,
   "id": "b75e937d",
   "metadata": {},
   "outputs": [
    {
     "name": "stdout",
     "output_type": "stream",
     "text": [
      "valentino rossi"
     ]
    }
   ],
   "source": [
    "a =\"valentino rossi. 46\"\n",
    "for s in a:\n",
    "    if s ==\".\":\n",
    "        break\n",
    "    print(s, end = \"\")"
   ]
  },
  {
   "cell_type": "code",
   "execution_count": 8,
   "id": "16ae6235",
   "metadata": {},
   "outputs": [
    {
     "name": "stdout",
     "output_type": "stream",
     "text": [
      "0 1 2 3 4 6 7 8 9 "
     ]
    }
   ],
   "source": [
    "for i in range(10):\n",
    "    if i == 5:\n",
    "        continue\n",
    "    print(i, end = \" \")\n",
    "    "
   ]
  },
  {
   "cell_type": "code",
   "execution_count": 13,
   "id": "ddb76c31",
   "metadata": {},
   "outputs": [
    {
     "name": "stdout",
     "output_type": "stream",
     "text": [
      "Enter n = 5\n",
      "this number is prime number\n"
     ]
    }
   ],
   "source": [
    "#for else loop\n",
    "n = int(input(\"Enter n = \"))\n",
    "for i in range (4,n):\n",
    "    if n%i==0:\n",
    "        print(\"This number is composite number. \")\n",
    "        \n",
    "else:\n",
    "        print(\"this number is prime number\")\n",
    "        \n",
    "    \n"
   ]
  },
  {
   "cell_type": "code",
   "execution_count": 6,
   "id": "534bf0df",
   "metadata": {},
   "outputs": [
    {
     "name": "stdout",
     "output_type": "stream",
     "text": [
      "0 rossi \n",
      "1 rossi \n",
      "2 rossi \n",
      "3 rossi \n",
      "4 rossi \n"
     ]
    }
   ],
   "source": [
    "# a +=1 a should be inreased by 1\n",
    "a = 0\n",
    "while a<5:\n",
    "    print(a, \"rossi \")\n",
    "    a +=1\n",
    "    "
   ]
  },
  {
   "cell_type": "code",
   "execution_count": 1,
   "id": "1d7efe45",
   "metadata": {},
   "outputs": [
    {
     "ename": "TypeError",
     "evalue": "'<' not supported between instances of 'tuple' and 'int'",
     "output_type": "error",
     "traceback": [
      "\u001b[1;31m---------------------------------------------------------------------------\u001b[0m",
      "\u001b[1;31mTypeError\u001b[0m                                 Traceback (most recent call last)",
      "Cell \u001b[1;32mIn[1], line 2\u001b[0m\n\u001b[0;32m      1\u001b[0m a \u001b[38;5;241m=\u001b[39m \u001b[38;5;241m5\u001b[39m,\n\u001b[1;32m----> 2\u001b[0m \u001b[38;5;28;01mwhile\u001b[39;00m a\u001b[38;5;241m<\u001b[39m\u001b[38;5;241m5\u001b[39m:\n\u001b[0;32m      3\u001b[0m     \u001b[38;5;28mprint\u001b[39m(a, \u001b[38;5;124m\"\u001b[39m\u001b[38;5;124mrossi \u001b[39m\u001b[38;5;124m\"\u001b[39m)\n\u001b[0;32m      4\u001b[0m     a \u001b[38;5;241m+\u001b[39m\u001b[38;5;241m=\u001b[39m\u001b[38;5;241m1\u001b[39m\n",
      "\u001b[1;31mTypeError\u001b[0m: '<' not supported between instances of 'tuple' and 'int'"
     ]
    }
   ],
   "source": [
    "a = 5,\n",
    "while a<5:\n",
    "    print(a, \"rossi \")\n",
    "    a +=1"
   ]
  },
  {
   "cell_type": "code",
   "execution_count": 1,
   "id": "b9619a01",
   "metadata": {},
   "outputs": [
    {
     "ename": "IndentationError",
     "evalue": "unexpected indent (1809389797.py, line 7)",
     "output_type": "error",
     "traceback": [
      "\u001b[1;36m  Cell \u001b[1;32mIn[1], line 7\u001b[1;36m\u001b[0m\n\u001b[1;33m    i = i + 1\u001b[0m\n\u001b[1;37m    ^\u001b[0m\n\u001b[1;31mIndentationError\u001b[0m\u001b[1;31m:\u001b[0m unexpected indent\n"
     ]
    }
   ],
   "source": [
    "i = 0\n",
    "while i<10:\n",
    "    if i == 5:\n",
    "        i =i + 1\n",
    "        continue\n",
    "    print(i, end = \" \")\n",
    "     i = i + 1\n",
    "    \n",
    " \n"
   ]
  },
  {
   "cell_type": "code",
   "execution_count": null,
   "id": "8136944d",
   "metadata": {},
   "outputs": [],
   "source": []
  }
 ],
 "metadata": {
  "kernelspec": {
   "display_name": "Python 3 (ipykernel)",
   "language": "python",
   "name": "python3"
  },
  "language_info": {
   "codemirror_mode": {
    "name": "ipython",
    "version": 3
   },
   "file_extension": ".py",
   "mimetype": "text/x-python",
   "name": "python",
   "nbconvert_exporter": "python",
   "pygments_lexer": "ipython3",
   "version": "3.11.5"
  }
 },
 "nbformat": 4,
 "nbformat_minor": 5
}
