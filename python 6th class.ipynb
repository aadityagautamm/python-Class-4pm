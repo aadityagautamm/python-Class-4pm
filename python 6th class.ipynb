{
 "cells": [
  {
   "cell_type": "code",
   "execution_count": 6,
   "id": "6a5dd754",
   "metadata": {},
   "outputs": [
    {
     "name": "stdout",
     "output_type": "stream",
     "text": [
      "We read in\n"
     ]
    }
   ],
   "source": [
    "a = \"We read in broadway infosys\"\n",
    "print (a[0:10])"
   ]
  },
  {
   "cell_type": "code",
   "execution_count": 7,
   "id": "a753a6bb",
   "metadata": {},
   "outputs": [
    {
     "name": "stdout",
     "output_type": "stream",
     "text": [
      "nohtyP\n"
     ]
    }
   ],
   "source": [
    "a = \"Python\"\n",
    "print(a[::-1])"
   ]
  },
  {
   "cell_type": "code",
   "execution_count": 8,
   "id": "b9efda5a",
   "metadata": {},
   "outputs": [
    {
     "name": "stdout",
     "output_type": "stream",
     "text": [
      "Hanuman"
     ]
    }
   ],
   "source": [
    "# index start from 0 and length start from 1\n",
    "a = \"Hanuman\"\n",
    "l =len(a)\n",
    "for i in range(l):\n",
    "    print(a[i], end =\"\")"
   ]
  },
  {
   "cell_type": "code",
   "execution_count": 1,
   "id": "6179f075",
   "metadata": {
    "scrolled": true
   },
   "outputs": [
    {
     "name": "stdout",
     "output_type": "stream",
     "text": [
      "hanuman"
     ]
    }
   ],
   "source": [
    "i = 0\n",
    "a =\"hanuman\"\n",
    "l = len(a)\n",
    "while i<l:\n",
    "    print(a[i], end = \"\")\n",
    "    i =i+1\n"
   ]
  },
  {
   "cell_type": "code",
   "execution_count": 1,
   "id": "ef390eb0",
   "metadata": {},
   "outputs": [
    {
     "name": "stdout",
     "output_type": "stream",
     "text": [
      "Name = Aashutosh\n",
      "Price = 8\n",
      "Quantity = 2\n",
      "16\n",
      "your total is Rs 16\n"
     ]
    }
   ],
   "source": [
    "# write a program to create a billing system\n",
    "i = 0\n",
    "n = input(\"Name = \")\n",
    "p = int(input(\"Price = \"))\n",
    "q = int(input(\"Quantity = \"))\n",
    "t = p*q\n",
    "print(t)\n",
    "result = \"your total is \" + \"Rs \" + str(t) \n",
    "print(result)\n",
    "\n"
   ]
  },
  {
   "cell_type": "code",
   "execution_count": 2,
   "id": "0ff00f56",
   "metadata": {},
   "outputs": [
    {
     "ename": "SyntaxError",
     "evalue": "unexpected character after line continuation character (41571790.py, line 12)",
     "output_type": "error",
     "traceback": [
      "\u001b[1;36m  Cell \u001b[1;32mIn[2], line 12\u001b[1;36m\u001b[0m\n\u001b[1;33m    print(\"Bill\" \\n, info)\u001b[0m\n\u001b[1;37m                  ^\u001b[0m\n\u001b[1;31mSyntaxError\u001b[0m\u001b[1;31m:\u001b[0m unexpected character after line continuation character\n"
     ]
    }
   ],
   "source": [
    "info = \"\"\n",
    "all_total = 0\n",
    "n = int(input(\"Enter n = \"))\n",
    "for i in range(n):\n",
    "    name = (input(\"Enter name = \"))\n",
    "    price = int(input(\"Enter price = \"))\n",
    "    quantity = int(input(\"Enter quantity = \"))\n",
    "    total = price * quantity\n",
    "    info = info + f\"{name} {price} {quantity}\\n\"\n",
    "    all_total = all_total + total\n",
    "  \n",
    "print(\"Bill\" \\n, info)\n",
    "print(\"total\" \\n, all_total)\n",
    "\n",
    "                   "
   ]
  },
  {
   "cell_type": "code",
   "execution_count": null,
   "id": "df30923c",
   "metadata": {},
   "outputs": [],
   "source": []
  }
 ],
 "metadata": {
  "kernelspec": {
   "display_name": "Python 3 (ipykernel)",
   "language": "python",
   "name": "python3"
  },
  "language_info": {
   "codemirror_mode": {
    "name": "ipython",
    "version": 3
   },
   "file_extension": ".py",
   "mimetype": "text/x-python",
   "name": "python",
   "nbconvert_exporter": "python",
   "pygments_lexer": "ipython3",
   "version": "3.11.5"
  }
 },
 "nbformat": 4,
 "nbformat_minor": 5
}
